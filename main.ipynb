{
 "cells": [
  {
   "cell_type": "code",
   "execution_count": 1,
   "metadata": {},
   "outputs": [
    {
     "name": "stdout",
     "output_type": "stream",
     "text": [
      "WRDS recommends setting up a .pgpass file.\n",
      "Created .pgpass file successfully.\n",
      "You can create this file yourself at any time with the create_pgpass_file() function.\n",
      "Loading library list...\n",
      "Done\n",
      "crsp saved.\n",
      "decme and comp saved.\n"
     ]
    }
   ],
   "source": [
    "# Basic information\n",
    "# input the original index (Input N to None): ')\n",
    "original_index='epspi'\n",
    "document_path='C:\\\\Users\\\\Julia\\\\Desktop\\\\Asset pricing data\\\\test\\\\'\n",
    "start_date='01/01/1959'\n",
    "\n",
    "# My access to the data is limited to 12/31/2023\n",
    "end_date='8/31/2024'\n",
    "\n",
    "# Settings.py is a executable file that download the data from the internet\n",
    "# If you don't have the data, please run the file first\n",
    "\n",
    "with open('Settings.py') as file:\n",
    "    exec(file.read(),globals(), locals())\n",
    "    \n",
    "#TIME: 4M 26S"
   ]
  },
  {
   "cell_type": "code",
   "execution_count": 5,
   "metadata": {},
   "outputs": [
    {
     "name": "stdout",
     "output_type": "stream",
     "text": [
      "WRDS recommends setting up a .pgpass file.\n",
      "Created .pgpass file successfully.\n",
      "You can create this file yourself at any time with the create_pgpass_file() function.\n",
      "Loading library list...\n",
      "Done\n"
     ]
    }
   ],
   "source": [
    "#Variabls are already set up in the system: \n",
    "# #size, momentum, growth, investment, inventory, total asset, Operating Profitability and investment\n",
    "\n",
    "# the index want to devide into 10 portfolios(N to others):\n",
    "pindex='N'\n",
    "\n",
    "\n",
    "#size portfolio TIME: 19S\n",
    "if pindex=='size':\n",
    "    print('Calculating size portfolios...')\n",
    "    with open('size portfolio.py') as file:\n",
    "        exec(file.read(),globals(), locals())\n",
    "\n",
    "#momentum portfolio TIME: 57S\n",
    "elif pindex=='momentum':\n",
    "    print('Calculating momentum portfolios...')\n",
    "    with open('momentum portfolio.py') as file:\n",
    "        exec(file.read(),globals(), locals())\n",
    "\n",
    "# asset ,inventory, op, investment, growth, use the updated function\n",
    "elif pindex=='total asset' or pindex=='inventory' or pindex=='investment' or pindex=='Operating Profitability' or pindex=='growth':\n",
    "    print('Calculating', pindex, 'portfolios...')\n",
    "    \n",
    "    # mapping the index name to the variable name in the system\n",
    "    mapping = {\n",
    "    'total asset': 'act',\n",
    "    'inventory': 'invt',\n",
    "    'investment': 'ppei',\n",
    "    'Operating Profitability': 'op',\n",
    "    'growth': 'beme'\n",
    "}\n",
    "    pindex = mapping.get(pindex, pindex) \n",
    "    with open('other portfolio.py') as file:\n",
    "        exec(file.read(),globals(), locals())\n",
    "    \n",
    "# if the index is N, design new index\n",
    "elif pindex=='N':\n",
    "    ############################################################\n",
    "    # THIS IS THE PART THAT YOU CAN DESIGN YOUR OWN INDEX\n",
    "    ############################################################\n",
    "        \n",
    "    #reset the index name\n",
    "    pindex='ep'\n",
    "    \n",
    "    # Combine fundamental data and CRSP data\n",
    "    with open('ResetDataFrame.py') as file:\n",
    "        exec(file.read(),globals(), locals())\n",
    "    \n",
    "    # Read the combined data\n",
    "    ccm2_jun = pd.read_csv(document_path+'ccm.csv', low_memory=False, index_col=0)\n",
    "    \n",
    "    # Design your index\n",
    "    ccm2_jun[pindex] = ccm2_jun['epspi'] / ccm2_jun['dec_prc']\n",
    "    if pindex == 'ep':\n",
    "        ccm2_jun = ccm2_jun[ccm2_jun[pindex] >= 0]\n",
    "    \n",
    "    # Read the CRSP data\n",
    "    crsp3 = pd.read_csv(document_path+'crsp3.csv', low_memory=False, index_col=0)\n",
    "    # Calculate the portfolio        \n",
    "    with open('Calculateportfolio.py') as file:\n",
    "        exec(file.read(),globals(), locals())\n",
    "else:\n",
    "    print('Please enter a valid index')"
   ]
  },
  {
   "cell_type": "code",
   "execution_count": null,
   "metadata": {},
   "outputs": [],
   "source": [
    "def DrawPortfolios(portfolio_returns,pindex):\n",
    "    return None"
   ]
  }
 ],
 "metadata": {
  "kernelspec": {
   "display_name": "base",
   "language": "python",
   "name": "python3"
  },
  "language_info": {
   "codemirror_mode": {
    "name": "ipython",
    "version": 3
   },
   "file_extension": ".py",
   "mimetype": "text/x-python",
   "name": "python",
   "nbconvert_exporter": "python",
   "pygments_lexer": "ipython3",
   "version": "3.11.4"
  }
 },
 "nbformat": 4,
 "nbformat_minor": 2
}
